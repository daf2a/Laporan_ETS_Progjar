{
 "cells": [
  {
   "cell_type": "code",
   "execution_count": 3,
   "metadata": {},
   "outputs": [
    {
     "ename": "ModuleNotFoundError",
     "evalue": "No module named 'pandas'",
     "output_type": "error",
     "traceback": [
      "\u001b[1;31m---------------------------------------------------------------------------\u001b[0m",
      "\u001b[1;31mModuleNotFoundError\u001b[0m                       Traceback (most recent call last)",
      "Cell \u001b[1;32mIn[3], line 1\u001b[0m\n\u001b[1;32m----> 1\u001b[0m \u001b[38;5;28;01mimport\u001b[39;00m \u001b[38;5;21;01mpandas\u001b[39;00m \u001b[38;5;28;01mas\u001b[39;00m \u001b[38;5;21;01mpd\u001b[39;00m\n\u001b[0;32m      2\u001b[0m \u001b[38;5;28;01mimport\u001b[39;00m \u001b[38;5;21;01maltair\u001b[39;00m \u001b[38;5;28;01mas\u001b[39;00m \u001b[38;5;21;01malt\u001b[39;00m\n\u001b[0;32m      4\u001b[0m \u001b[38;5;66;03m# Membaca data dari file CSV\u001b[39;00m\n",
      "\u001b[1;31mModuleNotFoundError\u001b[0m: No module named 'pandas'"
     ]
    }
   ],
   "source": [
    "import pandas as pd\n",
    "import altair as alt\n",
    "from IPython.display import display\n",
    "\n",
    "# Membaca data dari file CSV\n",
    "df = pd.read_csv('data_res.csv')\n",
    "df['Concurrency Level'] = pd.to_numeric(df['Concurrency Level'])"
   ]
  },
  {
   "cell_type": "code",
   "execution_count": null,
   "metadata": {},
   "outputs": [],
   "source": [
    "# Membuat Grafik Pertama: Requests/s vs Concurrency Level\n",
    "chart1 = alt.Chart(df).mark_line(point=True).encode(\n",
    "    x='Concurrency Level',\n",
    "    y='Requests/s',\n",
    "    color='Scenario',\n",
    "    tooltip=['Concurrency Level', 'Requests/s', 'Scenario']\n",
    ").properties(\n",
    "    title='Requests/s vs Concurrency Level'\n",
    ").interactive()\n",
    "\n",
    "chart1.show()"
   ]
  },
  {
   "cell_type": "code",
   "execution_count": null,
   "metadata": {},
   "outputs": [],
   "source": [
    "# Membuat Grafik Kedua: Time/Request (ms) vs Concurrency Level\n",
    "chart2 = alt.Chart(df).mark_line(point=True).encode(\n",
    "    x='Concurrency Level',\n",
    "    y='Time/Request (ms)',\n",
    "    color='Scenario',\n",
    "    tooltip=['Concurrency Level', 'Time/Request (ms)', 'Scenario']\n",
    ").properties(\n",
    "    title='Time/Request vs Concurrency Level'\n",
    ").interactive()\n",
    "\n",
    "chart2.show()"
   ]
  },
  {
   "cell_type": "code",
   "execution_count": null,
   "metadata": {},
   "outputs": [],
   "source": [
    "# Membuat Grafik Pertama: Requests/s vs Concurrency Level\n",
    "chart1 = alt.Chart(df).mark_line(point=True).encode(\n",
    "    x='Concurrency Level',\n",
    "    y='Requests/s',\n",
    "    color='Scenario',\n",
    "    tooltip=['Concurrency Level', 'Requests/s', 'Scenario']\n",
    ").properties(\n",
    "    title='Requests/s vs Concurrency Level'\n",
    ").interactive()\n",
    "\n",
    "chart1.show()"
   ]
  },
  {
   "cell_type": "code",
   "execution_count": null,
   "metadata": {},
   "outputs": [],
   "source": [
    "# Membuat Grafik Ketiga: Longest Transactions (ms) vs Concurrency Level\n",
    "chart3 = alt.Chart(df).mark_line(point=True).encode(\n",
    "    x='Concurrency Level',\n",
    "    y='Longest Transactions (ms)',\n",
    "    color='Scenario',\n",
    "    tooltip=['Concurrency Level', 'Longest Transactions (ms)', 'Scenario']\n",
    ").properties(\n",
    "    title='Longest Transaction vs Concurrency Level'\n",
    ").interactive()\n",
    "\n",
    "chart3.show()"
   ]
  }
 ],
 "metadata": {
  "kernelspec": {
   "display_name": "Python 3",
   "language": "python",
   "name": "python3"
  },
  "language_info": {
   "codemirror_mode": {
    "name": "ipython",
    "version": 3
   },
   "file_extension": ".py",
   "mimetype": "text/x-python",
   "name": "python",
   "nbconvert_exporter": "python",
   "pygments_lexer": "ipython3",
   "version": "3.12.3"
  }
 },
 "nbformat": 4,
 "nbformat_minor": 2
}
